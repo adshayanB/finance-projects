{
 "cells": [
  {
   "cell_type": "markdown",
   "metadata": {},
   "source": [
    "<h1> Gordon Growth Model / Dividend Discount Model Calculator"
   ]
  },
  {
   "cell_type": "markdown",
   "metadata": {},
   "source": [
    "The Gordon Growth Model (GGM) aka Divident Discount Model is a tool used to determine the value of a stock based on a series of dividends. The GGM is commonly used to value stocks based on the net present values of their future dividends.\n",
    "\n",
    "\n"
   ]
  },
  {
   "cell_type": "markdown",
   "metadata": {},
   "source": [
    "import requests\n",
    "import pandas as pd\n",
    "pd.core.common.is_list_like = pd.api.types.is_list_like\n",
    "import pandas_datareader.data as web\n",
    "import datetime\n"
   ]
  },
  {
   "cell_type": "markdown",
   "metadata": {},
   "source": [
    "<h1> Assumptions\n",
    "    "
   ]
  },
  {
   "cell_type": "markdown",
   "metadata": {},
   "source": [
    "We assume the growth rate is constant as years progress\n",
    "Cost of equity is bigger than divident growth (in order to get a postive evaluation)\n"
   ]
  },
  {
   "cell_type": "markdown",
   "metadata": {},
   "source": [
    "<h1> Formulas & Calculations"
   ]
  },
  {
   "cell_type": "markdown",
   "metadata": {},
   "source": [
    "Gordon Growth Rate Model  = (Dividend)*(1+growth rate) /(cost of equity- growth rate)\n",
    "Growth Rate = Return on Equity(ROE) * (1 — Dividend payout ratio)\n",
    "\n",
    "cost of equity = Risk free rate + Beta  (market return — Risk free rate)\n",
    "\n",
    "yearly return = (end balance / start balance) -1\n"
   ]
  },
  {
   "cell_type": "code",
   "execution_count": 72,
   "metadata": {},
   "outputs": [
    {
     "name": "stdout",
     "output_type": "stream",
     "text": [
      "Enter the stock name: SBUX\n",
      "SBUX Dividend per Share is 1.43\n",
      "The Sustainable Growth Rate for SBUX is -29.57%\n",
      "The Risk Free Rate for SBUX is 1.49%\n",
      "The beta for SBUX is 0.5\n",
      "The yearly market return was around 21.78%\n",
      "The cost equity for SBUX is  11.72%\n",
      "The value of SBUX using the Gordon Growth model is 2.4363178193440143\n"
     ]
    }
   ],
   "source": [
    "def comp_val(quote):\n",
    "    div= requests.get(f'https://financialmodelingprep.com/api/v3/financials/income-statement/{quote}')\n",
    "    div=div.json()\n",
    "    divTD=float(div['financials'][0]['Dividend per Share'])\n",
    "    print(F'{quote} Dividend per Share is {round(divTD,2)}')\n",
    "    \n",
    "    metrics=requests.get(f'https://financialmodelingprep.com/api/v3/company-key-metrics/{quote}')\n",
    "    metrics =metrics.json()\n",
    "    ROE = float(metrics['metrics'][0]['ROE'])\n",
    "    payout_ratio = float(metrics['metrics'][0]['Payout Ratio'])\n",
    "    sustainable_growth_rate =ROE *(1-payout_ratio)\n",
    "    print(f'The Sustainable Growth Rate for {quote} is {round(sustainable_growth_rate*100,2)}%')\n",
    "    \n",
    "    start = datetime.datetime(2019, 2, 1)\n",
    "    end = datetime.datetime(2020, 2, 27)\n",
    "    \n",
    "    treasury_values=web.DataReader(['TB1YR'],'fred',start,end)\n",
    "    #print(treasury_values)\n",
    "    Risk_Free_rate=float(treasury_values.iloc[-1])\n",
    "    Risk_Free_rate =Risk_Free_rate/100\n",
    "    #used  1-year Treasury Bills as a examplar due to Treasury bills are risk free\n",
    "    print(f'The Risk Free Rate for {quote} is {Risk_Free_rate*100}%')\n",
    "    \n",
    "    beta = requests.get(f'https://financialmodelingprep.com/api/v3/company/profile/{quote}')\n",
    "    beta=beta.json()\n",
    "    beta =float(beta['profile']['beta'])\n",
    "    print(f'The beta for {quote} is {round(beta,2)}')\n",
    "    \n",
    "    #s&P 500 used as an examplar for market_return used for expected market return\n",
    "    start = datetime.datetime(2019, 2, 15)\n",
    "    end =datetime.datetime(2020,2,15)\n",
    "    sp500 = web.DataReader(['sp500'],'fred',start,end)\n",
    "    sp500.dropna(inplace = True)\n",
    "\n",
    "    sp500_yearly_return= float((sp500.iloc[-1]/sp500.iloc[0])-1)\n",
    "    #print(sp500)\n",
    "    print(f'The yearly market return was around {round(sp500_yearly_return*100,2)}%')\n",
    "    \n",
    "    cost_equity = Risk_Free_rate + (beta*(sp500_yearly_return-Risk_Free_rate))\n",
    "    print(f'The cost equity for {quote} is  {round(cost_equity*100,2)}%')\n",
    "    \n",
    "    GGM = (divTD*(1+sustainable_growth_rate))/((cost_equity-sustainable_growth_rate))\n",
    "    \n",
    "    return GGM\n",
    "quote =input(\"Enter the stock name: \") \n",
    "    \n",
    "print(f'The value of {quote} using the Gordon Growth model is {comp_val(quote)}')"
   ]
  },
  {
   "cell_type": "markdown",
   "metadata": {},
   "source": [
    "<h1> Things to Consider"
   ]
  },
  {
   "cell_type": "markdown",
   "metadata": {},
   "source": [
    "The Gordon Growth model is very sensitive to the inputs, any slight change to the growth rate, cost of equity and etc will have a big effect on the calculated value. It tends to work well with stocks that tend to me consitent and constant.\n",
    " \n",
    "This model will not work with companies that do not pay dividends ( we also assume constant dividend payments which is also not very realistic)"
   ]
  },
  {
   "cell_type": "code",
   "execution_count": null,
   "metadata": {},
   "outputs": [],
   "source": []
  }
 ],
 "metadata": {
  "kernelspec": {
   "display_name": "Python 3",
   "language": "python",
   "name": "python3"
  },
  "language_info": {
   "codemirror_mode": {
    "name": "ipython",
    "version": 3
   },
   "file_extension": ".py",
   "mimetype": "text/x-python",
   "name": "python",
   "nbconvert_exporter": "python",
   "pygments_lexer": "ipython3",
   "version": "3.6.6"
  }
 },
 "nbformat": 4,
 "nbformat_minor": 4
}
